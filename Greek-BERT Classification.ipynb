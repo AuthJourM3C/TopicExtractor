{
  "cells": [
    {
      "cell_type": "markdown",
      "metadata": {
        "id": "view-in-github",
        "colab_type": "text"
      },
      "source": [
        "<a href=\"https://colab.research.google.com/github/pankosmas/TopicExtractor/blob/main/Greek-BERT%20Classification.ipynb\" target=\"_parent\"><img src=\"https://colab.research.google.com/assets/colab-badge.svg\" alt=\"Open In Colab\"/></a>"
      ]
    },
    {
      "cell_type": "code",
      "execution_count": null,
      "metadata": {
        "id": "23TOba33L4qf"
      },
      "outputs": [],
      "source": [
        "gpu_info = !nvidia-smi\n",
        "gpu_info = '\\n'.join(gpu_info)\n",
        "if gpu_info.find('failed') >= 0:\n",
        "  print('Not connected to a GPU')\n",
        "else:\n",
        "  print(gpu_info)"
      ]
    },
    {
      "cell_type": "code",
      "source": [
        "from google.colab import drive\n",
        "drive.mount('/content/drive')"
      ],
      "metadata": {
        "colab": {
          "base_uri": "https://localhost:8080/"
        },
        "id": "fJ2MSyrWOjr9",
        "outputId": "a36868d3-f2e9-4754-ac41-70e62937691f"
      },
      "execution_count": null,
      "outputs": [
        {
          "output_type": "stream",
          "name": "stdout",
          "text": [
            "Mounted at /content/drive\n"
          ]
        }
      ]
    },
    {
      "cell_type": "code",
      "execution_count": null,
      "metadata": {
        "id": "V1G82GuO-tez"
      },
      "outputs": [],
      "source": [
        "from psutil import virtual_memory\n",
        "ram_gb = virtual_memory().total / 1e9\n",
        "print('Your runtime has {:.1f} gigabytes of available RAM\\n'.format(ram_gb))\n",
        "\n",
        "if ram_gb < 20:\n",
        "  print('Not using a high-RAM runtime')\n",
        "else:\n",
        "  print('You are using a high-RAM runtime!')"
      ]
    },
    {
      "cell_type": "code",
      "source": [
        "!pip install bertopic\n",
        "!pip install scikit-learn\n",
        "!pip install --upgrade joblib==1.1.0\n",
        "!pip install tensorflow\n",
        "!pip install seaborn\n",
        "\n",
        "from sentence_transformers import SentenceTransformer\n",
        "from sklearn.feature_extraction.text import CountVectorizer\n",
        "from sklearn.model_selection import RandomizedSearchCV\n",
        "from sklearn.metrics import make_scorer, silhouette_score\n",
        "from sklearn.cluster import KMeans"
      ],
      "metadata": {
        "id": "XYvApvFxOB6t"
      },
      "execution_count": null,
      "outputs": []
    },
    {
      "cell_type": "code",
      "source": [
        "from bertopic import BERTopic\n",
        "import matplotlib.pyplot as plt\n",
        "import pandas as pd\n",
        "import numpy as np\n",
        "import string\n",
        "import re\n",
        "import hdbscan\n",
        "import umap\n",
        "from umap import UMAP \n",
        "from hdbscan import HDBSCAN\n",
        "from mpl_toolkits.mplot3d import Axes3D\n",
        "\n",
        "\n",
        "import pandas as pd\n",
        "import numpy as np\n",
        "\n",
        "import tensorflow as tf\n",
        "import transformers #huggingface transformers library\n",
        " \n",
        "from sklearn.model_selection import train_test_split\n",
        "from sklearn.preprocessing import LabelEncoder\n",
        "import sklearn\n",
        "from sklearn.metrics import confusion_matrix\n",
        "\n",
        "import seaborn as sns\n",
        "%matplotlib inline\n",
        "import matplotlib.pyplot as plt\n",
        "sns.set(style='white', context='poster', rc={'figure.figsize':(14,10)})"
      ],
      "metadata": {
        "id": "0cf3HLpdxqqq"
      },
      "execution_count": null,
      "outputs": []
    },
    {
      "cell_type": "code",
      "source": [
        "# Detect hardware, return appropriate distribution strategy\n",
        "try:\n",
        "    # TPU detection. No parameters necessary if TPU_NAME environment variable is\n",
        "    # set: this is always the case on Kaggle.\n",
        "    tpu = tf.distribute.cluster_resolver.TPUClusterResolver()\n",
        "    print('Running on TPU ', tpu.master())\n",
        "except ValueError:\n",
        "    tpu = None\n",
        "if tpu:\n",
        "    tf.config.experimental_connect_to_cluster(tpu)\n",
        "    tf.tpu.experimental.initialize_tpu_system(tpu)\n",
        "    strategy = tf.distribute.experimental.TPUStrategy(tpu)\n",
        "else:\n",
        "    # Default distribution strategy in Tensorflow. Works on CPU and single GPU.\n",
        "    strategy = tf.distribute.get_strategy()\n",
        "print(\"REPLICAS: \", strategy.num_replicas_in_sync)"
      ],
      "metadata": {
        "colab": {
          "base_uri": "https://localhost:8080/"
        },
        "id": "k_RhfhAROh7Q",
        "outputId": "00961061-53c2-4676-9088-804d42d31d24"
      },
      "execution_count": null,
      "outputs": [
        {
          "output_type": "stream",
          "name": "stdout",
          "text": [
            "REPLICAS:  1\n"
          ]
        }
      ]
    },
    {
      "cell_type": "markdown",
      "source": [
        "# OMILIES TOPIC MODEL"
      ],
      "metadata": {
        "id": "sFIxOzA2xcJG"
      }
    },
    {
      "cell_type": "code",
      "source": [
        "stoplist = set('αλλα αλλά εγω εγώ εσυ εσύ αυτος αυτός αυτη αυτή αυτο αυτό εμεις εμείς εσεις εσείς αυτοι αυτοί αυτα '\n",
        "               'αυτά το του τα των τις τους τοις και ναι οχι μη μην δε λίγο λιγο τόσο τοσο γι για δεν ειμαι είμαι '\n",
        "               'εισαι είσαι ειναι είναι ειμαστε είμαστε ειστε είστε ειναι είναι ουτε ούτε μητε μήτε ουδε ουδέ η ή '\n",
        "               'ειτε είτε αν και μα παρα πάρα παρά ομως όμως ωστοσο ωστόσο ενω ενώ μολονοτι μολονότι μονο μόνο μονό '\n",
        "               'που λοιπον λοιπόν ωστε ώστε αρα άρα επομενως επομένως οποτε όποτε οπότε δηλαδη δηλαδή οτι ότι πως που '\n",
        "               'μην μηπως μήπως να αμα άμα οταν όταν καθως καθώς αφου αφού αφοτου αφότου πριν μολις προτου ωσπου '\n",
        "               'ωσοτου σαν γιατι διοτι επειδη αφου τι οτι για να ωστε ως παρα αναμεσα κάνω κάνεις κάνει κάνουν '\n",
        "               'κάνουμε κι δε μέρα μεταξυ εαν ανω κατω πανω πισω μπρος μπροστα εχω κανω λεω βλεπω μπορω μπορει ισως '\n",
        "               'καλα καλο καλος καλη καλων έχω έχεις έχει έχουμε έχετε έχουν εχω εχεις εχει εχουμε εχετε εχουν'\n",
        "               'είχα είχες είχε είχαμε είχατε είχαν ειχα ειχες ειχε ειχαμε ειχατε ειχαν καλους καλε εκει εκτος εντος'\n",
        "               'μεσα εξω ιδιο ηταν ζωη ολα ολο ολος ολοι ομως ποτε σπανια οποιος οποια οποιο οποιους οποιοι οποιες πολυ πολλα πολλη πολλων πολλους τωρα χθες σημερα '\n",
        "               'αυριο παρον παρων μελλον παρελθον χθες ωρα χωρις με χρονια πρωτος της κατα στα στο στη στων στις στους '\n",
        "               'οι ο η απο στην στη στον στο τον την μόλις προτού ώσπου ωσότου σαν γιατί διότι επειδή αφού τι ότι για '\n",
        "               'να ώστε ως πάρα αναμεσά έχετε κάνετε χθες χτες εχτές εχθές μεταξύ εάν άνω κάτω πάνω πίσω μπρος μπροστά '\n",
        "               'έχω κάνω λέω βλέπω μπορώ μπορεί ίσως καλά καλό καλός καλή καλών καλούς καλέ εκεί εκτός εντός μέσα έξω '\n",
        "               'ίδιο ήταν ζωή μεγάλη μικρή όλα όλο όλος όλοι όμως ποτέ σπάνια όποιος όποια όποιο όποιους όποιοι όποιες '\n",
        "               'πολύ πολλά πολλή πολλών πολλούς τώρα χθες σήμερα αύριο παρόν παρών μέλλον παρελθόν χθες ώρα χωρίς με '\n",
        "               'χρονιά πρώτος της κατά στα στο μετα μετά όσων οσων στη στων στις στους οι ο η από στην στη στον στο τον την θα όμως σε '\n",
        "               'αυτού τη όλους μας σας πρέπει ήδη έχει είχε μια μία ένα ένας ενός υπό οποία οποίο οποίος οποίους δικό '\n",
        "               'μετά κοντά έως εώς άλλους κάτι γύρω πιο όσο έχουν μπορώ μπορεί μπορείτε μπορούν πάνε κάντε δικό θέλετε '\n",
        "               'δώσετε προς όπως δώστε δει δείτε βλέπω έτσι άλλοι ίδια νέα πολλά κυρίως άλλη ακόμα οποίων επί είπε όχι '\n",
        "               'μέχρι μου σου του δυο δύο πλέον είπε α β γ δ ε ζ η θ ι κ λ μ ν ξ ο π ρ σ τ υ φ χ ψ ω αυτ όλη όσους '\n",
        "               'όλες αυτούς θέλω βάζω κάθε κά τότε έχουμε θέλει έκανε βρίσκεται ακόμη όπου φέτος πέρσι μετά πέρυσι '\n",
        "               'πήρε έδωσε ης βγει νέος νέα νέοι νέους νέας νέων ος γίνει υπάρχει υπάρχω υπάρχουν πάλι θέμα πώς μια μία μιας'\n",
        "               'ανεξαρτήτως ίδιος μάλιστα έναν έγινε άλλο τρία τρια τρείς τρεις πέντε έξι επτά οκτώ δέκα τέσσερις θεμα'\n",
        "               'ετ κεδ εναντίον τέσσερα αε ίδιες σ ς εννέα εννιά αο γς τέλος πάντως επίσης ας πχ x εκ περί αυτές άλλων'.split(' '))\n",
        "\n",
        "s2 = set([word.upper() for word in stoplist])\n",
        "s3 = set([word.capitalize() for word in stoplist])\n",
        "\n",
        "stoplist = stoplist.union(s2)\n",
        "stoplist = stoplist.union(s3)"
      ],
      "metadata": {
        "id": "rKHWNA7QxehC"
      },
      "execution_count": null,
      "outputs": []
    },
    {
      "cell_type": "code",
      "source": [
        "omilies = pd.read_csv('/content/drive/MyDrive/datasets/omilies.csv')\n",
        "omilies.columns"
      ],
      "metadata": {
        "id": "0eeiLswLxxO7"
      },
      "execution_count": null,
      "outputs": []
    },
    {
      "cell_type": "code",
      "source": [
        "texts = omilies['pars'].tolist()"
      ],
      "metadata": {
        "id": "WVzwXUuIx-Dj"
      },
      "execution_count": null,
      "outputs": []
    },
    {
      "cell_type": "code",
      "source": [
        "sentence_model = SentenceTransformer(\"lighteternal/stsb-xlm-r-greek-transfer\")  # lighteternal/stsb-xlm-r-greek-transfer , paraphrase-multilingual-MiniLM-L12-v2 , paraphrase-multilingual-mpnet-base-v2\n",
        "embeddings = sentence_model.encode(texts, show_progress_bar=True)"
      ],
      "metadata": {
        "id": "SGKqkNhUyDrL"
      },
      "execution_count": null,
      "outputs": []
    },
    {
      "cell_type": "code",
      "source": [
        "umap_model = UMAP(n_neighbors=25, n_components=5, min_dist=0.0, metric='cosine')\n",
        "hdbscan_model = HDBSCAN(min_cluster_size=10, metric='euclidean', cluster_selection_method='eom', prediction_data=True)\n",
        "\n",
        "# vectorizer_model=vectorizer_model, umap_model=umap_model, hdbscan_model=hdbscan_model\n",
        "vectorizer_model = CountVectorizer(ngram_range=(1, 3), stop_words=list(stoplist), min_df=5, max_df=0.70)\n",
        "topic_model = BERTopic(vectorizer_model=vectorizer_model, language=\"greek\", calculate_probabilities=False, verbose=True, diversity=0.75, embedding_model=sentence_model)  # .fit_transform(texts)  \n",
        "topics, probs = topic_model.fit_transform(texts, embeddings)"
      ],
      "metadata": {
        "colab": {
          "base_uri": "https://localhost:8080/"
        },
        "id": "0uZviR-MySS4",
        "outputId": "ea86959d-9b00-462a-959e-81baf6d58871"
      },
      "execution_count": null,
      "outputs": [
        {
          "output_type": "stream",
          "name": "stderr",
          "text": [
            "2022-11-09 05:12:35,912 - BERTopic - Reduced dimensionality\n",
            "2022-11-09 05:12:47,577 - BERTopic - Clustered reduced embeddings\n"
          ]
        }
      ]
    },
    {
      "cell_type": "code",
      "source": [
        "topic_model.get_topic(2)"
      ],
      "metadata": {
        "colab": {
          "base_uri": "https://localhost:8080/"
        },
        "id": "sOyMMkKE0vrP",
        "outputId": "8657d57f-454a-423d-8b02-0b15a3c13bbf"
      },
      "execution_count": null,
      "outputs": [
        {
          "output_type": "execute_result",
          "data": {
            "text/plain": [
              "[('τουρκία', 0.012633784535577189),\n",
              " ('τουρκίας', 0.00995487609694794),\n",
              " ('ερντογάν', 0.007580281397730081),\n",
              " ('τουρκική', 0.005154587445246985),\n",
              " ('αιγαίο', 0.00419660331365808),\n",
              " ('συμπεριφορά', 0.004186285348572155),\n",
              " ('ανατολική μεσόγειο', 0.0039031347501354524),\n",
              " ('erdogan', 0.003667085413604224),\n",
              " ('μεσόγειο', 0.003543238066355413),\n",
              " ('ανατολική', 0.0035249062036160107)]"
            ]
          },
          "metadata": {},
          "execution_count": 28
        }
      ]
    },
    {
      "cell_type": "code",
      "source": [
        "renamed_topics = []\n",
        "for i in range(1, 1697, 1):\n",
        "  topic = ''\n",
        "  for elem in topic_model.get_topic(i):\n",
        "    topic += str(elem[0]) + \" \"\n",
        "  renamed_topics.append(topic)"
      ],
      "metadata": {
        "id": "JtmDBRWoysYC"
      },
      "execution_count": null,
      "outputs": []
    },
    {
      "cell_type": "code",
      "source": [],
      "metadata": {
        "id": "9XgFNIKI2GcH"
      },
      "execution_count": null,
      "outputs": []
    },
    {
      "cell_type": "code",
      "source": [
        "topic_model.get_topic_freq()"
      ],
      "metadata": {
        "id": "qFKlk1Wyx7ay"
      },
      "execution_count": null,
      "outputs": []
    },
    {
      "cell_type": "markdown",
      "source": [
        "# BERT NEWS CLASSIFICATION"
      ],
      "metadata": {
        "id": "gTLQt4edxTsJ"
      }
    },
    {
      "cell_type": "code",
      "source": [
        "df = pd.read_csv('/content/drive/MyDrive/datasets/datasetBERTCLASS_2.csv', encoding='utf8')\n",
        "df.head()"
      ],
      "metadata": {
        "id": "DWsizlI_Oqqp",
        "colab": {
          "base_uri": "https://localhost:8080/",
          "height": 206
        },
        "outputId": "66930752-eea6-4bd8-c8e2-19f71b1ed1c5"
      },
      "execution_count": null,
      "outputs": [
        {
          "output_type": "execute_result",
          "data": {
            "text/plain": [
              "   Unnamed: 0                                               text  category\n",
              "0           0  άνοιξε σύστημα ηλεκτρονική αίτηση χορήγηση μετ...  Κοινωνία\n",
              "1           1  τετάρτη ξεκίνησε διαδικασία μετεγγραφής φοιτητ...  Κοινωνία\n",
              "2           2  κατασκευή στεγάστρου ανοιχτό κολυμβητήριο παλλ...  Κοινωνία\n",
              "3           3  σοβαρή καταγγελία έρχεται φως δημοσιότητας αφο...  Κοινωνία\n",
              "4           4  ψυχιατρική κλινική δρομοκαΐτειου νοσοκομείου ε...  Κοινωνία"
            ],
            "text/html": [
              "\n",
              "  <div id=\"df-ec3de9a8-6b83-458f-aaf1-7a92ec7b7f87\">\n",
              "    <div class=\"colab-df-container\">\n",
              "      <div>\n",
              "<style scoped>\n",
              "    .dataframe tbody tr th:only-of-type {\n",
              "        vertical-align: middle;\n",
              "    }\n",
              "\n",
              "    .dataframe tbody tr th {\n",
              "        vertical-align: top;\n",
              "    }\n",
              "\n",
              "    .dataframe thead th {\n",
              "        text-align: right;\n",
              "    }\n",
              "</style>\n",
              "<table border=\"1\" class=\"dataframe\">\n",
              "  <thead>\n",
              "    <tr style=\"text-align: right;\">\n",
              "      <th></th>\n",
              "      <th>Unnamed: 0</th>\n",
              "      <th>text</th>\n",
              "      <th>category</th>\n",
              "    </tr>\n",
              "  </thead>\n",
              "  <tbody>\n",
              "    <tr>\n",
              "      <th>0</th>\n",
              "      <td>0</td>\n",
              "      <td>άνοιξε σύστημα ηλεκτρονική αίτηση χορήγηση μετ...</td>\n",
              "      <td>Κοινωνία</td>\n",
              "    </tr>\n",
              "    <tr>\n",
              "      <th>1</th>\n",
              "      <td>1</td>\n",
              "      <td>τετάρτη ξεκίνησε διαδικασία μετεγγραφής φοιτητ...</td>\n",
              "      <td>Κοινωνία</td>\n",
              "    </tr>\n",
              "    <tr>\n",
              "      <th>2</th>\n",
              "      <td>2</td>\n",
              "      <td>κατασκευή στεγάστρου ανοιχτό κολυμβητήριο παλλ...</td>\n",
              "      <td>Κοινωνία</td>\n",
              "    </tr>\n",
              "    <tr>\n",
              "      <th>3</th>\n",
              "      <td>3</td>\n",
              "      <td>σοβαρή καταγγελία έρχεται φως δημοσιότητας αφο...</td>\n",
              "      <td>Κοινωνία</td>\n",
              "    </tr>\n",
              "    <tr>\n",
              "      <th>4</th>\n",
              "      <td>4</td>\n",
              "      <td>ψυχιατρική κλινική δρομοκαΐτειου νοσοκομείου ε...</td>\n",
              "      <td>Κοινωνία</td>\n",
              "    </tr>\n",
              "  </tbody>\n",
              "</table>\n",
              "</div>\n",
              "      <button class=\"colab-df-convert\" onclick=\"convertToInteractive('df-ec3de9a8-6b83-458f-aaf1-7a92ec7b7f87')\"\n",
              "              title=\"Convert this dataframe to an interactive table.\"\n",
              "              style=\"display:none;\">\n",
              "        \n",
              "  <svg xmlns=\"http://www.w3.org/2000/svg\" height=\"24px\"viewBox=\"0 0 24 24\"\n",
              "       width=\"24px\">\n",
              "    <path d=\"M0 0h24v24H0V0z\" fill=\"none\"/>\n",
              "    <path d=\"M18.56 5.44l.94 2.06.94-2.06 2.06-.94-2.06-.94-.94-2.06-.94 2.06-2.06.94zm-11 1L8.5 8.5l.94-2.06 2.06-.94-2.06-.94L8.5 2.5l-.94 2.06-2.06.94zm10 10l.94 2.06.94-2.06 2.06-.94-2.06-.94-.94-2.06-.94 2.06-2.06.94z\"/><path d=\"M17.41 7.96l-1.37-1.37c-.4-.4-.92-.59-1.43-.59-.52 0-1.04.2-1.43.59L10.3 9.45l-7.72 7.72c-.78.78-.78 2.05 0 2.83L4 21.41c.39.39.9.59 1.41.59.51 0 1.02-.2 1.41-.59l7.78-7.78 2.81-2.81c.8-.78.8-2.07 0-2.86zM5.41 20L4 18.59l7.72-7.72 1.47 1.35L5.41 20z\"/>\n",
              "  </svg>\n",
              "      </button>\n",
              "      \n",
              "  <style>\n",
              "    .colab-df-container {\n",
              "      display:flex;\n",
              "      flex-wrap:wrap;\n",
              "      gap: 12px;\n",
              "    }\n",
              "\n",
              "    .colab-df-convert {\n",
              "      background-color: #E8F0FE;\n",
              "      border: none;\n",
              "      border-radius: 50%;\n",
              "      cursor: pointer;\n",
              "      display: none;\n",
              "      fill: #1967D2;\n",
              "      height: 32px;\n",
              "      padding: 0 0 0 0;\n",
              "      width: 32px;\n",
              "    }\n",
              "\n",
              "    .colab-df-convert:hover {\n",
              "      background-color: #E2EBFA;\n",
              "      box-shadow: 0px 1px 2px rgba(60, 64, 67, 0.3), 0px 1px 3px 1px rgba(60, 64, 67, 0.15);\n",
              "      fill: #174EA6;\n",
              "    }\n",
              "\n",
              "    [theme=dark] .colab-df-convert {\n",
              "      background-color: #3B4455;\n",
              "      fill: #D2E3FC;\n",
              "    }\n",
              "\n",
              "    [theme=dark] .colab-df-convert:hover {\n",
              "      background-color: #434B5C;\n",
              "      box-shadow: 0px 1px 3px 1px rgba(0, 0, 0, 0.15);\n",
              "      filter: drop-shadow(0px 1px 2px rgba(0, 0, 0, 0.3));\n",
              "      fill: #FFFFFF;\n",
              "    }\n",
              "  </style>\n",
              "\n",
              "      <script>\n",
              "        const buttonEl =\n",
              "          document.querySelector('#df-ec3de9a8-6b83-458f-aaf1-7a92ec7b7f87 button.colab-df-convert');\n",
              "        buttonEl.style.display =\n",
              "          google.colab.kernel.accessAllowed ? 'block' : 'none';\n",
              "\n",
              "        async function convertToInteractive(key) {\n",
              "          const element = document.querySelector('#df-ec3de9a8-6b83-458f-aaf1-7a92ec7b7f87');\n",
              "          const dataTable =\n",
              "            await google.colab.kernel.invokeFunction('convertToInteractive',\n",
              "                                                     [key], {});\n",
              "          if (!dataTable) return;\n",
              "\n",
              "          const docLinkHtml = 'Like what you see? Visit the ' +\n",
              "            '<a target=\"_blank\" href=https://colab.research.google.com/notebooks/data_table.ipynb>data table notebook</a>'\n",
              "            + ' to learn more about interactive tables.';\n",
              "          element.innerHTML = '';\n",
              "          dataTable['output_type'] = 'display_data';\n",
              "          await google.colab.output.renderOutput(dataTable, element);\n",
              "          const docLink = document.createElement('div');\n",
              "          docLink.innerHTML = docLinkHtml;\n",
              "          element.appendChild(docLink);\n",
              "        }\n",
              "      </script>\n",
              "    </div>\n",
              "  </div>\n",
              "  "
            ]
          },
          "metadata": {},
          "execution_count": 9
        }
      ]
    },
    {
      "cell_type": "code",
      "source": [
        "encoder = LabelEncoder()\n",
        "df['categoryEncoded'] = encoder.fit_transform(df['category'])\n",
        "df['tlen'] = df['text'].apply(lambda x: len(str(x).split()))"
      ],
      "metadata": {
        "id": "bmcbBAXPOw2c"
      },
      "execution_count": null,
      "outputs": []
    },
    {
      "cell_type": "code",
      "source": [
        "dfp = df[df.text.notna()]"
      ],
      "metadata": {
        "id": "Mq9Zrw1tOydt"
      },
      "execution_count": null,
      "outputs": []
    },
    {
      "cell_type": "code",
      "source": [
        "def regular_encode(texts, tokenizer, maxlen=512):\n",
        "    enc_di = tokenizer.batch_encode_plus(\n",
        "        texts,\n",
        "        return_token_type_ids=False,\n",
        "        pad_to_max_length=True,\n",
        "        max_length=maxlen\n",
        "    )\n",
        "    return np.array(enc_di['input_ids'])"
      ],
      "metadata": {
        "id": "H71MLU9yO0AW"
      },
      "execution_count": null,
      "outputs": []
    },
    {
      "cell_type": "code",
      "source": [
        "from transformers import AutoTokenizer, AutoModel\n",
        "tokenizer = AutoTokenizer.from_pretrained(\"nlpaueb/bert-base-greek-uncased-v1\")\n",
        "model = AutoModel.from_pretrained(\"nlpaueb/bert-base-greek-uncased-v1\")"
      ],
      "metadata": {
        "id": "HtSczY-yO1DF"
      },
      "execution_count": null,
      "outputs": []
    },
    {
      "cell_type": "code",
      "source": [
        "X_train,X_test ,y_train,y_test = train_test_split(df['text'], df['categoryEncoded'], random_state = 2020, test_size = 0.3)"
      ],
      "metadata": {
        "id": "kvOmkWrVO2JQ"
      },
      "execution_count": null,
      "outputs": []
    },
    {
      "cell_type": "code",
      "source": [
        "frame = {'text': X_train, 'categoryEncoded': y_train}\n",
        "df = pd.DataFrame(frame)\n",
        "\n",
        "import math\n",
        "categories = [0,1,2,3,4,5,6,7,8,9,10,11]\n",
        "sum = len(df[df['categoryEncoded']==8])\n",
        "nn = df\n",
        "for ctg in categories:\n",
        "  dd = df[df['categoryEncoded']==ctg]\n",
        "  subsum = len(dd)\n",
        "  d = math.floor(sum / subsum)\n",
        "  print(d)\n",
        "  u = sum % subsum\n",
        "  for i in range(d-1):\n",
        "    nn = pd.concat([nn, dd])\n",
        "  df2 = dd.head(u)\n",
        "  nn = pd.concat([nn, df2])\n",
        "len(nn)\n",
        "\n",
        "X_train = nn['text'].squeeze()\n",
        "y_train = nn['categoryEncoded'].squeeze()"
      ],
      "metadata": {
        "id": "HJLrF-FpAUHW"
      },
      "execution_count": null,
      "outputs": []
    },
    {
      "cell_type": "code",
      "source": [
        "Xtrain_encoded = regular_encode(X_train.astype('str').to_list(), tokenizer, maxlen=256)\n",
        "ytrain_encoded = tf.keras.utils.to_categorical(y_train, num_classes=12,dtype = 'int32')\n",
        "Xtest_encoded = regular_encode(X_test.astype('str').to_list(), tokenizer, maxlen=256)\n",
        "ytest_encoded = tf.keras.utils.to_categorical(y_test, num_classes=12,dtype = 'int32')"
      ],
      "metadata": {
        "id": "jElqnOK6O3up",
        "colab": {
          "base_uri": "https://localhost:8080/"
        },
        "outputId": "86187edd-d256-4f69-b23b-3b82432cd70b"
      },
      "execution_count": null,
      "outputs": [
        {
          "output_type": "stream",
          "name": "stderr",
          "text": [
            "Truncation was not explicitly activated but `max_length` is provided a specific value, please use `truncation=True` to explicitly truncate examples to max length. Defaulting to 'longest_first' truncation strategy. If you encode pairs of sequences (GLUE-style) with the tokenizer you can select this strategy more precisely by providing a specific strategy to `truncation`.\n"
          ]
        }
      ]
    },
    {
      "cell_type": "code",
      "source": [
        "def build_model(transformer, loss='categorical_crossentropy', max_len=512):\n",
        "    input_word_ids = tf.keras.layers.Input(shape=(max_len,), dtype=tf.int32, name=\"input_word_ids\")\n",
        "    sequence_output = transformer(input_word_ids)[0]\n",
        "    cls_token = sequence_output[:, 0, :]\n",
        "    #adding dropout layer\n",
        "    x = tf.keras.layers.Dropout(0.3)(cls_token)\n",
        "    #using a dense layer of 40 neurons as the number of unique categories is 12. \n",
        "    out = tf.keras.layers.Dense(12, activation='softmax')(x)\n",
        "    model = tf.keras.Model(inputs=input_word_ids, outputs=out)\n",
        "    #using categorical crossentropy as the loss as it is a multi-class classification problem\n",
        "    model.compile(tf.keras.optimizers.Adam(lr=3e-5), loss=loss, metrics=['accuracy'])\n",
        "    return model"
      ],
      "metadata": {
        "id": "RXuF-BwiO40K"
      },
      "execution_count": null,
      "outputs": []
    },
    {
      "cell_type": "code",
      "source": [
        "#building the model on tpu\n",
        "with strategy.scope():\n",
        "    transformer_layer = transformers.TFAutoModel.from_pretrained('nlpaueb/bert-base-greek-uncased-v1')\n",
        "    model = build_model(transformer_layer, max_len=256)\n",
        "model.summary()"
      ],
      "metadata": {
        "id": "SnhrnoocO52x"
      },
      "execution_count": null,
      "outputs": []
    },
    {
      "cell_type": "code",
      "source": [
        "#creating the training and testing dataset.\n",
        "BATCH_SIZE = 32*strategy.num_replicas_in_sync\n",
        "AUTO = tf.data.experimental.AUTOTUNE \n",
        "train_dataset = (\n",
        "    tf.data.Dataset\n",
        "    .from_tensor_slices((Xtrain_encoded, ytrain_encoded))\n",
        "    .repeat()\n",
        "    .shuffle(2048)\n",
        "    .batch(BATCH_SIZE)\n",
        "    .prefetch(AUTO)\n",
        ")\n",
        "test_dataset = (\n",
        "    tf.data.Dataset\n",
        "    .from_tensor_slices(Xtest_encoded)\n",
        "    .batch(BATCH_SIZE)\n",
        ")"
      ],
      "metadata": {
        "id": "vov7yKCuO7As"
      },
      "execution_count": null,
      "outputs": []
    },
    {
      "cell_type": "code",
      "source": [
        "#training for 10 epochs\n",
        "n_steps = Xtrain_encoded.shape[0] // BATCH_SIZE\n",
        "train_history = model.fit(\n",
        "    train_dataset,\n",
        "    steps_per_epoch=n_steps,\n",
        "    epochs=5\n",
        ")"
      ],
      "metadata": {
        "id": "YA2zs59WPEdT"
      },
      "execution_count": null,
      "outputs": []
    },
    {
      "cell_type": "code",
      "source": [
        "#making predictions\n",
        "preds = model.predict(test_dataset,verbose = 1)\n",
        "#converting the one hot vector output to a linear numpy array.\n",
        "pred_classes = np.argmax(preds, axis = 1)"
      ],
      "metadata": {
        "id": "K474LxvlRUh4",
        "outputId": "43ead57a-baf0-405f-a4d8-a8329be30acf",
        "colab": {
          "base_uri": "https://localhost:8080/"
        }
      },
      "execution_count": null,
      "outputs": [
        {
          "output_type": "stream",
          "name": "stdout",
          "text": [
            "563/563 [==============================] - 44s 73ms/step\n"
          ]
        }
      ]
    },
    {
      "cell_type": "code",
      "source": [
        "#extracting the classes from the label encoder\n",
        "encoded_classes = encoder.classes_\n",
        "#mapping the encoded output to actual categories\n",
        "predicted_category = [encoded_classes[x] for x in pred_classes]\n",
        "true_category = [encoded_classes[x] for x in y_test]"
      ],
      "metadata": {
        "id": "hCbhNf6DRXkc"
      },
      "execution_count": null,
      "outputs": []
    },
    {
      "cell_type": "code",
      "source": [
        "result_df = pd.DataFrame({'description':X_test,'true_category':true_category, 'predicted_category':predicted_category})\n",
        "result_df.head()"
      ],
      "metadata": {
        "id": "uDSf3hthRYjt",
        "outputId": "97367990-1b4b-41f3-ab35-2bcf908c8c91",
        "colab": {
          "base_uri": "https://localhost:8080/",
          "height": 206
        }
      },
      "execution_count": null,
      "outputs": [
        {
          "output_type": "execute_result",
          "data": {
            "text/plain": [
              "                                             description true_category  \\\n",
              "35948  κολλητή φίλη καρολάιν αποκαλύπτει «ο στάθης πα...      Κοινωνία   \n",
              "54937  πρώτη καταγγέλλουσα βήμα μάρτυρα κλειστές πόρτ...    Δικαιοσύνη   \n",
              "41269  υφυπουργός υποδομών μεταφορών αρμόδιος υποδομέ...      Πολιτική   \n",
              "9849   αναρωτηθεί κάποιοι άνθρωποι προσελκύουν κουνού...         Υγεία   \n",
              "17831  greek freak προανήγγειλε άφιξή tweet ελληνικά ...    Αθλητισμός   \n",
              "\n",
              "      predicted_category  \n",
              "35948           Κοινωνία  \n",
              "54937           Κοινωνία  \n",
              "41269           Πολιτική  \n",
              "9849          Περιβάλλον  \n",
              "17831         Τεχνολογία  "
            ],
            "text/html": [
              "\n",
              "  <div id=\"df-4c43c690-1644-46af-8506-c2df71423b05\">\n",
              "    <div class=\"colab-df-container\">\n",
              "      <div>\n",
              "<style scoped>\n",
              "    .dataframe tbody tr th:only-of-type {\n",
              "        vertical-align: middle;\n",
              "    }\n",
              "\n",
              "    .dataframe tbody tr th {\n",
              "        vertical-align: top;\n",
              "    }\n",
              "\n",
              "    .dataframe thead th {\n",
              "        text-align: right;\n",
              "    }\n",
              "</style>\n",
              "<table border=\"1\" class=\"dataframe\">\n",
              "  <thead>\n",
              "    <tr style=\"text-align: right;\">\n",
              "      <th></th>\n",
              "      <th>description</th>\n",
              "      <th>true_category</th>\n",
              "      <th>predicted_category</th>\n",
              "    </tr>\n",
              "  </thead>\n",
              "  <tbody>\n",
              "    <tr>\n",
              "      <th>35948</th>\n",
              "      <td>κολλητή φίλη καρολάιν αποκαλύπτει «ο στάθης πα...</td>\n",
              "      <td>Κοινωνία</td>\n",
              "      <td>Κοινωνία</td>\n",
              "    </tr>\n",
              "    <tr>\n",
              "      <th>54937</th>\n",
              "      <td>πρώτη καταγγέλλουσα βήμα μάρτυρα κλειστές πόρτ...</td>\n",
              "      <td>Δικαιοσύνη</td>\n",
              "      <td>Κοινωνία</td>\n",
              "    </tr>\n",
              "    <tr>\n",
              "      <th>41269</th>\n",
              "      <td>υφυπουργός υποδομών μεταφορών αρμόδιος υποδομέ...</td>\n",
              "      <td>Πολιτική</td>\n",
              "      <td>Πολιτική</td>\n",
              "    </tr>\n",
              "    <tr>\n",
              "      <th>9849</th>\n",
              "      <td>αναρωτηθεί κάποιοι άνθρωποι προσελκύουν κουνού...</td>\n",
              "      <td>Υγεία</td>\n",
              "      <td>Περιβάλλον</td>\n",
              "    </tr>\n",
              "    <tr>\n",
              "      <th>17831</th>\n",
              "      <td>greek freak προανήγγειλε άφιξή tweet ελληνικά ...</td>\n",
              "      <td>Αθλητισμός</td>\n",
              "      <td>Τεχνολογία</td>\n",
              "    </tr>\n",
              "  </tbody>\n",
              "</table>\n",
              "</div>\n",
              "      <button class=\"colab-df-convert\" onclick=\"convertToInteractive('df-4c43c690-1644-46af-8506-c2df71423b05')\"\n",
              "              title=\"Convert this dataframe to an interactive table.\"\n",
              "              style=\"display:none;\">\n",
              "        \n",
              "  <svg xmlns=\"http://www.w3.org/2000/svg\" height=\"24px\"viewBox=\"0 0 24 24\"\n",
              "       width=\"24px\">\n",
              "    <path d=\"M0 0h24v24H0V0z\" fill=\"none\"/>\n",
              "    <path d=\"M18.56 5.44l.94 2.06.94-2.06 2.06-.94-2.06-.94-.94-2.06-.94 2.06-2.06.94zm-11 1L8.5 8.5l.94-2.06 2.06-.94-2.06-.94L8.5 2.5l-.94 2.06-2.06.94zm10 10l.94 2.06.94-2.06 2.06-.94-2.06-.94-.94-2.06-.94 2.06-2.06.94z\"/><path d=\"M17.41 7.96l-1.37-1.37c-.4-.4-.92-.59-1.43-.59-.52 0-1.04.2-1.43.59L10.3 9.45l-7.72 7.72c-.78.78-.78 2.05 0 2.83L4 21.41c.39.39.9.59 1.41.59.51 0 1.02-.2 1.41-.59l7.78-7.78 2.81-2.81c.8-.78.8-2.07 0-2.86zM5.41 20L4 18.59l7.72-7.72 1.47 1.35L5.41 20z\"/>\n",
              "  </svg>\n",
              "      </button>\n",
              "      \n",
              "  <style>\n",
              "    .colab-df-container {\n",
              "      display:flex;\n",
              "      flex-wrap:wrap;\n",
              "      gap: 12px;\n",
              "    }\n",
              "\n",
              "    .colab-df-convert {\n",
              "      background-color: #E8F0FE;\n",
              "      border: none;\n",
              "      border-radius: 50%;\n",
              "      cursor: pointer;\n",
              "      display: none;\n",
              "      fill: #1967D2;\n",
              "      height: 32px;\n",
              "      padding: 0 0 0 0;\n",
              "      width: 32px;\n",
              "    }\n",
              "\n",
              "    .colab-df-convert:hover {\n",
              "      background-color: #E2EBFA;\n",
              "      box-shadow: 0px 1px 2px rgba(60, 64, 67, 0.3), 0px 1px 3px 1px rgba(60, 64, 67, 0.15);\n",
              "      fill: #174EA6;\n",
              "    }\n",
              "\n",
              "    [theme=dark] .colab-df-convert {\n",
              "      background-color: #3B4455;\n",
              "      fill: #D2E3FC;\n",
              "    }\n",
              "\n",
              "    [theme=dark] .colab-df-convert:hover {\n",
              "      background-color: #434B5C;\n",
              "      box-shadow: 0px 1px 3px 1px rgba(0, 0, 0, 0.15);\n",
              "      filter: drop-shadow(0px 1px 2px rgba(0, 0, 0, 0.3));\n",
              "      fill: #FFFFFF;\n",
              "    }\n",
              "  </style>\n",
              "\n",
              "      <script>\n",
              "        const buttonEl =\n",
              "          document.querySelector('#df-4c43c690-1644-46af-8506-c2df71423b05 button.colab-df-convert');\n",
              "        buttonEl.style.display =\n",
              "          google.colab.kernel.accessAllowed ? 'block' : 'none';\n",
              "\n",
              "        async function convertToInteractive(key) {\n",
              "          const element = document.querySelector('#df-4c43c690-1644-46af-8506-c2df71423b05');\n",
              "          const dataTable =\n",
              "            await google.colab.kernel.invokeFunction('convertToInteractive',\n",
              "                                                     [key], {});\n",
              "          if (!dataTable) return;\n",
              "\n",
              "          const docLinkHtml = 'Like what you see? Visit the ' +\n",
              "            '<a target=\"_blank\" href=https://colab.research.google.com/notebooks/data_table.ipynb>data table notebook</a>'\n",
              "            + ' to learn more about interactive tables.';\n",
              "          element.innerHTML = '';\n",
              "          dataTable['output_type'] = 'display_data';\n",
              "          await google.colab.output.renderOutput(dataTable, element);\n",
              "          const docLink = document.createElement('div');\n",
              "          docLink.innerHTML = docLinkHtml;\n",
              "          element.appendChild(docLink);\n",
              "        }\n",
              "      </script>\n",
              "    </div>\n",
              "  </div>\n",
              "  "
            ]
          },
          "metadata": {},
          "execution_count": 23
        }
      ]
    },
    {
      "cell_type": "code",
      "source": [
        "print(f\"Accuracy is {sklearn.metrics.accuracy_score(result_df['true_category'], result_df['predicted_category'])}\")"
      ],
      "metadata": {
        "id": "fXuOvntDRhs1",
        "outputId": "ad4d222c-be50-4b7a-8601-181f9ec52bd2",
        "colab": {
          "base_uri": "https://localhost:8080/"
        }
      },
      "execution_count": null,
      "outputs": [
        {
          "output_type": "stream",
          "name": "stdout",
          "text": [
            "Accuracy is 0.8714841578654808\n"
          ]
        }
      ]
    },
    {
      "cell_type": "code",
      "source": [
        "result_df.to_csv('/content/drive/MyDrive/datasets/testPredictions.csv', index = False)"
      ],
      "metadata": {
        "id": "k152kcpdRjaF"
      },
      "execution_count": null,
      "outputs": []
    },
    {
      "cell_type": "code",
      "source": [
        "result_df[result_df['true_category']!=result_df['predicted_category']]"
      ],
      "metadata": {
        "id": "Nm2jo4l4RrXy",
        "outputId": "d7ceedb4-445c-4067-9013-6e696ba7755d",
        "colab": {
          "base_uri": "https://localhost:8080/",
          "height": 423
        }
      },
      "execution_count": null,
      "outputs": [
        {
          "output_type": "execute_result",
          "data": {
            "text/plain": [
              "                                             description true_category  \\\n",
              "54937  πρώτη καταγγέλλουσα βήμα μάρτυρα κλειστές πόρτ...    Δικαιοσύνη   \n",
              "9849   αναρωτηθεί κάποιοι άνθρωποι προσελκύουν κουνού...         Υγεία   \n",
              "18898  σύμφωνα έκτακτο δελτίο επιδείνωσης καιρού εκδό...      Κοινωνία   \n",
              "1498   energean ανακοίνωσε ερευνητική γεώτρηση «ερμής...     Οικονομία   \n",
              "28718  δούμε επόμενο επεισόδιο σειράς «σασμός» προβλη...      Κοινωνία   \n",
              "...                                                  ...           ...   \n",
              "27345  ακραίες θερμοκρασίες υψηλές χαμηλές τροφοδοτού...         Υγεία   \n",
              "45113  «αποδημία» βασίλισσας ελισσάβετ καθοριστική επ...     Οικονομία   \n",
              "688    παρασκευή κατατίθενται αιτήσεις περιοχές προτί...      Κοινωνία   \n",
              "4406   υψηλός πληθωρισμός γερμανία αγγίζει ενεργειακή...        Κόσμος   \n",
              "39086  twitter δίνει επιτέλους χρήστες δυνατότητα επι...        Κόσμος   \n",
              "\n",
              "      predicted_category  \n",
              "54937           Κοινωνία  \n",
              "9849          Περιβάλλον  \n",
              "18898         Περιβάλλον  \n",
              "1498            Κοινωνία  \n",
              "28718              Υγεία  \n",
              "...                  ...  \n",
              "27345             Κόσμος  \n",
              "45113             Κόσμος  \n",
              "688            Οικονομία  \n",
              "4406           Οικονομία  \n",
              "39086         Τεχνολογία  \n",
              "\n",
              "[2262 rows x 3 columns]"
            ],
            "text/html": [
              "\n",
              "  <div id=\"df-0b7f4952-7465-41a3-89af-ffc0bc70a704\">\n",
              "    <div class=\"colab-df-container\">\n",
              "      <div>\n",
              "<style scoped>\n",
              "    .dataframe tbody tr th:only-of-type {\n",
              "        vertical-align: middle;\n",
              "    }\n",
              "\n",
              "    .dataframe tbody tr th {\n",
              "        vertical-align: top;\n",
              "    }\n",
              "\n",
              "    .dataframe thead th {\n",
              "        text-align: right;\n",
              "    }\n",
              "</style>\n",
              "<table border=\"1\" class=\"dataframe\">\n",
              "  <thead>\n",
              "    <tr style=\"text-align: right;\">\n",
              "      <th></th>\n",
              "      <th>description</th>\n",
              "      <th>true_category</th>\n",
              "      <th>predicted_category</th>\n",
              "    </tr>\n",
              "  </thead>\n",
              "  <tbody>\n",
              "    <tr>\n",
              "      <th>54937</th>\n",
              "      <td>πρώτη καταγγέλλουσα βήμα μάρτυρα κλειστές πόρτ...</td>\n",
              "      <td>Δικαιοσύνη</td>\n",
              "      <td>Κοινωνία</td>\n",
              "    </tr>\n",
              "    <tr>\n",
              "      <th>9849</th>\n",
              "      <td>αναρωτηθεί κάποιοι άνθρωποι προσελκύουν κουνού...</td>\n",
              "      <td>Υγεία</td>\n",
              "      <td>Περιβάλλον</td>\n",
              "    </tr>\n",
              "    <tr>\n",
              "      <th>18898</th>\n",
              "      <td>σύμφωνα έκτακτο δελτίο επιδείνωσης καιρού εκδό...</td>\n",
              "      <td>Κοινωνία</td>\n",
              "      <td>Περιβάλλον</td>\n",
              "    </tr>\n",
              "    <tr>\n",
              "      <th>1498</th>\n",
              "      <td>energean ανακοίνωσε ερευνητική γεώτρηση «ερμής...</td>\n",
              "      <td>Οικονομία</td>\n",
              "      <td>Κοινωνία</td>\n",
              "    </tr>\n",
              "    <tr>\n",
              "      <th>28718</th>\n",
              "      <td>δούμε επόμενο επεισόδιο σειράς «σασμός» προβλη...</td>\n",
              "      <td>Κοινωνία</td>\n",
              "      <td>Υγεία</td>\n",
              "    </tr>\n",
              "    <tr>\n",
              "      <th>...</th>\n",
              "      <td>...</td>\n",
              "      <td>...</td>\n",
              "      <td>...</td>\n",
              "    </tr>\n",
              "    <tr>\n",
              "      <th>27345</th>\n",
              "      <td>ακραίες θερμοκρασίες υψηλές χαμηλές τροφοδοτού...</td>\n",
              "      <td>Υγεία</td>\n",
              "      <td>Κόσμος</td>\n",
              "    </tr>\n",
              "    <tr>\n",
              "      <th>45113</th>\n",
              "      <td>«αποδημία» βασίλισσας ελισσάβετ καθοριστική επ...</td>\n",
              "      <td>Οικονομία</td>\n",
              "      <td>Κόσμος</td>\n",
              "    </tr>\n",
              "    <tr>\n",
              "      <th>688</th>\n",
              "      <td>παρασκευή κατατίθενται αιτήσεις περιοχές προτί...</td>\n",
              "      <td>Κοινωνία</td>\n",
              "      <td>Οικονομία</td>\n",
              "    </tr>\n",
              "    <tr>\n",
              "      <th>4406</th>\n",
              "      <td>υψηλός πληθωρισμός γερμανία αγγίζει ενεργειακή...</td>\n",
              "      <td>Κόσμος</td>\n",
              "      <td>Οικονομία</td>\n",
              "    </tr>\n",
              "    <tr>\n",
              "      <th>39086</th>\n",
              "      <td>twitter δίνει επιτέλους χρήστες δυνατότητα επι...</td>\n",
              "      <td>Κόσμος</td>\n",
              "      <td>Τεχνολογία</td>\n",
              "    </tr>\n",
              "  </tbody>\n",
              "</table>\n",
              "<p>2262 rows × 3 columns</p>\n",
              "</div>\n",
              "      <button class=\"colab-df-convert\" onclick=\"convertToInteractive('df-0b7f4952-7465-41a3-89af-ffc0bc70a704')\"\n",
              "              title=\"Convert this dataframe to an interactive table.\"\n",
              "              style=\"display:none;\">\n",
              "        \n",
              "  <svg xmlns=\"http://www.w3.org/2000/svg\" height=\"24px\"viewBox=\"0 0 24 24\"\n",
              "       width=\"24px\">\n",
              "    <path d=\"M0 0h24v24H0V0z\" fill=\"none\"/>\n",
              "    <path d=\"M18.56 5.44l.94 2.06.94-2.06 2.06-.94-2.06-.94-.94-2.06-.94 2.06-2.06.94zm-11 1L8.5 8.5l.94-2.06 2.06-.94-2.06-.94L8.5 2.5l-.94 2.06-2.06.94zm10 10l.94 2.06.94-2.06 2.06-.94-2.06-.94-.94-2.06-.94 2.06-2.06.94z\"/><path d=\"M17.41 7.96l-1.37-1.37c-.4-.4-.92-.59-1.43-.59-.52 0-1.04.2-1.43.59L10.3 9.45l-7.72 7.72c-.78.78-.78 2.05 0 2.83L4 21.41c.39.39.9.59 1.41.59.51 0 1.02-.2 1.41-.59l7.78-7.78 2.81-2.81c.8-.78.8-2.07 0-2.86zM5.41 20L4 18.59l7.72-7.72 1.47 1.35L5.41 20z\"/>\n",
              "  </svg>\n",
              "      </button>\n",
              "      \n",
              "  <style>\n",
              "    .colab-df-container {\n",
              "      display:flex;\n",
              "      flex-wrap:wrap;\n",
              "      gap: 12px;\n",
              "    }\n",
              "\n",
              "    .colab-df-convert {\n",
              "      background-color: #E8F0FE;\n",
              "      border: none;\n",
              "      border-radius: 50%;\n",
              "      cursor: pointer;\n",
              "      display: none;\n",
              "      fill: #1967D2;\n",
              "      height: 32px;\n",
              "      padding: 0 0 0 0;\n",
              "      width: 32px;\n",
              "    }\n",
              "\n",
              "    .colab-df-convert:hover {\n",
              "      background-color: #E2EBFA;\n",
              "      box-shadow: 0px 1px 2px rgba(60, 64, 67, 0.3), 0px 1px 3px 1px rgba(60, 64, 67, 0.15);\n",
              "      fill: #174EA6;\n",
              "    }\n",
              "\n",
              "    [theme=dark] .colab-df-convert {\n",
              "      background-color: #3B4455;\n",
              "      fill: #D2E3FC;\n",
              "    }\n",
              "\n",
              "    [theme=dark] .colab-df-convert:hover {\n",
              "      background-color: #434B5C;\n",
              "      box-shadow: 0px 1px 3px 1px rgba(0, 0, 0, 0.15);\n",
              "      filter: drop-shadow(0px 1px 2px rgba(0, 0, 0, 0.3));\n",
              "      fill: #FFFFFF;\n",
              "    }\n",
              "  </style>\n",
              "\n",
              "      <script>\n",
              "        const buttonEl =\n",
              "          document.querySelector('#df-0b7f4952-7465-41a3-89af-ffc0bc70a704 button.colab-df-convert');\n",
              "        buttonEl.style.display =\n",
              "          google.colab.kernel.accessAllowed ? 'block' : 'none';\n",
              "\n",
              "        async function convertToInteractive(key) {\n",
              "          const element = document.querySelector('#df-0b7f4952-7465-41a3-89af-ffc0bc70a704');\n",
              "          const dataTable =\n",
              "            await google.colab.kernel.invokeFunction('convertToInteractive',\n",
              "                                                     [key], {});\n",
              "          if (!dataTable) return;\n",
              "\n",
              "          const docLinkHtml = 'Like what you see? Visit the ' +\n",
              "            '<a target=\"_blank\" href=https://colab.research.google.com/notebooks/data_table.ipynb>data table notebook</a>'\n",
              "            + ' to learn more about interactive tables.';\n",
              "          element.innerHTML = '';\n",
              "          dataTable['output_type'] = 'display_data';\n",
              "          await google.colab.output.renderOutput(dataTable, element);\n",
              "          const docLink = document.createElement('div');\n",
              "          docLink.innerHTML = docLinkHtml;\n",
              "          element.appendChild(docLink);\n",
              "        }\n",
              "      </script>\n",
              "    </div>\n",
              "  </div>\n",
              "  "
            ]
          },
          "metadata": {},
          "execution_count": 51
        }
      ]
    },
    {
      "cell_type": "code",
      "source": [
        "confusion_mat = confusion_matrix(y_true = true_category, y_pred = predicted_category, labels=list(encoded_classes))"
      ],
      "metadata": {
        "id": "CxNwMe_0RxdP"
      },
      "execution_count": null,
      "outputs": []
    },
    {
      "cell_type": "code",
      "source": [
        "df_cm = pd.DataFrame(confusion_mat, index = list(encoded_classes),columns = list(encoded_classes))\n",
        "plt.rcParams['figure.figsize'] = (40,20)\n",
        "sns.heatmap(df_cm, cmap='Blues', annot = True,fmt=\"d\")"
      ],
      "metadata": {
        "id": "BQX-2XzJRzPg"
      },
      "execution_count": null,
      "outputs": []
    },
    {
      "cell_type": "markdown",
      "source": [
        "# COMBINATION TO CATEGORIZE TOPICS"
      ],
      "metadata": {
        "id": "VCoPe0a-2eaj"
      }
    },
    {
      "cell_type": "code",
      "source": [
        "with open('/content/drive/MyDrive/datasets/omilies_topics.txt') as f:\n",
        "    lines = f.readlines()"
      ],
      "metadata": {
        "id": "uXCzsPWVYRK0"
      },
      "execution_count": null,
      "outputs": []
    },
    {
      "cell_type": "code",
      "source": [
        "lines[0] + lines[0]"
      ],
      "metadata": {
        "colab": {
          "base_uri": "https://localhost:8080/",
          "height": 53
        },
        "id": "k-GVABcey8AY",
        "outputId": "ac9a734e-9a7a-4d3f-cbd4-a5b2722ef8e8"
      },
      "execution_count": null,
      "outputs": [
        {
          "output_type": "execute_result",
          "data": {
            "text/plain": [
              "'ανέφερε τόνισε σημείωσε πρόσθεσε τόνισε-πρωθυπουργός δήλωσε ανέφερε-πρωθυπουργός απ τόνισε-κυριάκος-μητσοτάκης τόνισε-κυριάκος \\nανέφερε τόνισε σημείωσε πρόσθεσε τόνισε-πρωθυπουργός δήλωσε ανέφερε-πρωθυπουργός απ τόνισε-κυριάκος-μητσοτάκης τόνισε-κυριάκος \\n'"
            ],
            "application/vnd.google.colaboratory.intrinsic+json": {
              "type": "string"
            }
          },
          "metadata": {},
          "execution_count": 45
        }
      ]
    },
    {
      "cell_type": "code",
      "source": [
        "texts_list = []\n",
        "for line in lines:\n",
        "  line = line.replace('\\n', '')\n",
        "  line = line.replace('  ', '')\n",
        "  texts_list.append(line)\n",
        "frame = {'text': texts_list}\n",
        "topics = pd.DataFrame(frame)"
      ],
      "metadata": {
        "id": "U7Wy7CCOYjy_"
      },
      "execution_count": null,
      "outputs": []
    },
    {
      "cell_type": "code",
      "source": [
        "topics.head()"
      ],
      "metadata": {
        "id": "xwcu2mxMZJ-p",
        "outputId": "0ea57d81-da7d-4a4f-9310-47a2034c705f",
        "colab": {
          "base_uri": "https://localhost:8080/",
          "height": 206
        }
      },
      "execution_count": null,
      "outputs": [
        {
          "output_type": "execute_result",
          "data": {
            "text/plain": [
              "                                                text\n",
              "0  ανέφερε τόνισε σημείωσε πρόσθεσε τόνισε-πρωθυπ...\n",
              "1  εμβόλια εμβόλιο εμβολίων εμβολιαστούν εμβολιασ...\n",
              "2  προσφύγων ασύλου πρόσφυγες μεταναστών ροών ροέ...\n",
              "3  τουρκία τουρκίας τουρκική ερντογάν συμπεριφορά...\n",
              "4  υφυπουργός γραμματέας γενικός γενικός-γραμματέ..."
            ],
            "text/html": [
              "\n",
              "  <div id=\"df-68f47dfa-08e4-4aca-a183-e197027fe346\">\n",
              "    <div class=\"colab-df-container\">\n",
              "      <div>\n",
              "<style scoped>\n",
              "    .dataframe tbody tr th:only-of-type {\n",
              "        vertical-align: middle;\n",
              "    }\n",
              "\n",
              "    .dataframe tbody tr th {\n",
              "        vertical-align: top;\n",
              "    }\n",
              "\n",
              "    .dataframe thead th {\n",
              "        text-align: right;\n",
              "    }\n",
              "</style>\n",
              "<table border=\"1\" class=\"dataframe\">\n",
              "  <thead>\n",
              "    <tr style=\"text-align: right;\">\n",
              "      <th></th>\n",
              "      <th>text</th>\n",
              "    </tr>\n",
              "  </thead>\n",
              "  <tbody>\n",
              "    <tr>\n",
              "      <th>0</th>\n",
              "      <td>ανέφερε τόνισε σημείωσε πρόσθεσε τόνισε-πρωθυπ...</td>\n",
              "    </tr>\n",
              "    <tr>\n",
              "      <th>1</th>\n",
              "      <td>εμβόλια εμβόλιο εμβολίων εμβολιαστούν εμβολιασ...</td>\n",
              "    </tr>\n",
              "    <tr>\n",
              "      <th>2</th>\n",
              "      <td>προσφύγων ασύλου πρόσφυγες μεταναστών ροών ροέ...</td>\n",
              "    </tr>\n",
              "    <tr>\n",
              "      <th>3</th>\n",
              "      <td>τουρκία τουρκίας τουρκική ερντογάν συμπεριφορά...</td>\n",
              "    </tr>\n",
              "    <tr>\n",
              "      <th>4</th>\n",
              "      <td>υφυπουργός γραμματέας γενικός γενικός-γραμματέ...</td>\n",
              "    </tr>\n",
              "  </tbody>\n",
              "</table>\n",
              "</div>\n",
              "      <button class=\"colab-df-convert\" onclick=\"convertToInteractive('df-68f47dfa-08e4-4aca-a183-e197027fe346')\"\n",
              "              title=\"Convert this dataframe to an interactive table.\"\n",
              "              style=\"display:none;\">\n",
              "        \n",
              "  <svg xmlns=\"http://www.w3.org/2000/svg\" height=\"24px\"viewBox=\"0 0 24 24\"\n",
              "       width=\"24px\">\n",
              "    <path d=\"M0 0h24v24H0V0z\" fill=\"none\"/>\n",
              "    <path d=\"M18.56 5.44l.94 2.06.94-2.06 2.06-.94-2.06-.94-.94-2.06-.94 2.06-2.06.94zm-11 1L8.5 8.5l.94-2.06 2.06-.94-2.06-.94L8.5 2.5l-.94 2.06-2.06.94zm10 10l.94 2.06.94-2.06 2.06-.94-2.06-.94-.94-2.06-.94 2.06-2.06.94z\"/><path d=\"M17.41 7.96l-1.37-1.37c-.4-.4-.92-.59-1.43-.59-.52 0-1.04.2-1.43.59L10.3 9.45l-7.72 7.72c-.78.78-.78 2.05 0 2.83L4 21.41c.39.39.9.59 1.41.59.51 0 1.02-.2 1.41-.59l7.78-7.78 2.81-2.81c.8-.78.8-2.07 0-2.86zM5.41 20L4 18.59l7.72-7.72 1.47 1.35L5.41 20z\"/>\n",
              "  </svg>\n",
              "      </button>\n",
              "      \n",
              "  <style>\n",
              "    .colab-df-container {\n",
              "      display:flex;\n",
              "      flex-wrap:wrap;\n",
              "      gap: 12px;\n",
              "    }\n",
              "\n",
              "    .colab-df-convert {\n",
              "      background-color: #E8F0FE;\n",
              "      border: none;\n",
              "      border-radius: 50%;\n",
              "      cursor: pointer;\n",
              "      display: none;\n",
              "      fill: #1967D2;\n",
              "      height: 32px;\n",
              "      padding: 0 0 0 0;\n",
              "      width: 32px;\n",
              "    }\n",
              "\n",
              "    .colab-df-convert:hover {\n",
              "      background-color: #E2EBFA;\n",
              "      box-shadow: 0px 1px 2px rgba(60, 64, 67, 0.3), 0px 1px 3px 1px rgba(60, 64, 67, 0.15);\n",
              "      fill: #174EA6;\n",
              "    }\n",
              "\n",
              "    [theme=dark] .colab-df-convert {\n",
              "      background-color: #3B4455;\n",
              "      fill: #D2E3FC;\n",
              "    }\n",
              "\n",
              "    [theme=dark] .colab-df-convert:hover {\n",
              "      background-color: #434B5C;\n",
              "      box-shadow: 0px 1px 3px 1px rgba(0, 0, 0, 0.15);\n",
              "      filter: drop-shadow(0px 1px 2px rgba(0, 0, 0, 0.3));\n",
              "      fill: #FFFFFF;\n",
              "    }\n",
              "  </style>\n",
              "\n",
              "      <script>\n",
              "        const buttonEl =\n",
              "          document.querySelector('#df-68f47dfa-08e4-4aca-a183-e197027fe346 button.colab-df-convert');\n",
              "        buttonEl.style.display =\n",
              "          google.colab.kernel.accessAllowed ? 'block' : 'none';\n",
              "\n",
              "        async function convertToInteractive(key) {\n",
              "          const element = document.querySelector('#df-68f47dfa-08e4-4aca-a183-e197027fe346');\n",
              "          const dataTable =\n",
              "            await google.colab.kernel.invokeFunction('convertToInteractive',\n",
              "                                                     [key], {});\n",
              "          if (!dataTable) return;\n",
              "\n",
              "          const docLinkHtml = 'Like what you see? Visit the ' +\n",
              "            '<a target=\"_blank\" href=https://colab.research.google.com/notebooks/data_table.ipynb>data table notebook</a>'\n",
              "            + ' to learn more about interactive tables.';\n",
              "          element.innerHTML = '';\n",
              "          dataTable['output_type'] = 'display_data';\n",
              "          await google.colab.output.renderOutput(dataTable, element);\n",
              "          const docLink = document.createElement('div');\n",
              "          docLink.innerHTML = docLinkHtml;\n",
              "          element.appendChild(docLink);\n",
              "        }\n",
              "      </script>\n",
              "    </div>\n",
              "  </div>\n",
              "  "
            ]
          },
          "metadata": {},
          "execution_count": 47
        }
      ]
    },
    {
      "cell_type": "code",
      "source": [
        "tops = pd.DataFrame(topics, columns=['text'])"
      ],
      "metadata": {
        "id": "VJKWyAIb_Ydm"
      },
      "execution_count": null,
      "outputs": []
    },
    {
      "cell_type": "code",
      "source": [
        "tops"
      ],
      "metadata": {
        "colab": {
          "base_uri": "https://localhost:8080/",
          "height": 424
        },
        "id": "APzxx6YDzqQL",
        "outputId": "2a2e6ddc-7142-4d4f-a023-601b11b6d0d6"
      },
      "execution_count": null,
      "outputs": [
        {
          "output_type": "execute_result",
          "data": {
            "text/plain": [
              "                                                   text\n",
              "0     ανέφερε τόνισε σημείωσε πρόσθεσε τόνισε-πρωθυπ...\n",
              "1     εμβόλια εμβόλιο εμβολίων εμβολιαστούν εμβολιασ...\n",
              "2     προσφύγων ασύλου πρόσφυγες μεταναστών ροών ροέ...\n",
              "3     τουρκία τουρκίας τουρκική ερντογάν συμπεριφορά...\n",
              "4     υφυπουργός γραμματέας γενικός γενικός-γραμματέ...\n",
              "...                                                 ...\n",
              "1741  κοπεί εδώ-ευρώπη κίνα δεσμοί δημοσιογραφος οικ...\n",
              "1742  ανοιχτά-θέματα σκληρών ψυχρού-πολέμου ψυχρού π...\n",
              "1743  ελάτε απευθείας-μαζί νομίζω-δυνατότητα πείτε-π...\n",
              "1744  συνολικό-ποσό μάη οφειλών αιτηθεί ρυθμίσει εκα...\n",
              "1745  τελευταία-χρόνια-ελλάδα ενέκρινε τελειώνουμε δ...\n",
              "\n",
              "[1746 rows x 1 columns]"
            ],
            "text/html": [
              "\n",
              "  <div id=\"df-6eea150e-bbbb-4062-81f3-0b00adc0477e\">\n",
              "    <div class=\"colab-df-container\">\n",
              "      <div>\n",
              "<style scoped>\n",
              "    .dataframe tbody tr th:only-of-type {\n",
              "        vertical-align: middle;\n",
              "    }\n",
              "\n",
              "    .dataframe tbody tr th {\n",
              "        vertical-align: top;\n",
              "    }\n",
              "\n",
              "    .dataframe thead th {\n",
              "        text-align: right;\n",
              "    }\n",
              "</style>\n",
              "<table border=\"1\" class=\"dataframe\">\n",
              "  <thead>\n",
              "    <tr style=\"text-align: right;\">\n",
              "      <th></th>\n",
              "      <th>text</th>\n",
              "    </tr>\n",
              "  </thead>\n",
              "  <tbody>\n",
              "    <tr>\n",
              "      <th>0</th>\n",
              "      <td>ανέφερε τόνισε σημείωσε πρόσθεσε τόνισε-πρωθυπ...</td>\n",
              "    </tr>\n",
              "    <tr>\n",
              "      <th>1</th>\n",
              "      <td>εμβόλια εμβόλιο εμβολίων εμβολιαστούν εμβολιασ...</td>\n",
              "    </tr>\n",
              "    <tr>\n",
              "      <th>2</th>\n",
              "      <td>προσφύγων ασύλου πρόσφυγες μεταναστών ροών ροέ...</td>\n",
              "    </tr>\n",
              "    <tr>\n",
              "      <th>3</th>\n",
              "      <td>τουρκία τουρκίας τουρκική ερντογάν συμπεριφορά...</td>\n",
              "    </tr>\n",
              "    <tr>\n",
              "      <th>4</th>\n",
              "      <td>υφυπουργός γραμματέας γενικός γενικός-γραμματέ...</td>\n",
              "    </tr>\n",
              "    <tr>\n",
              "      <th>...</th>\n",
              "      <td>...</td>\n",
              "    </tr>\n",
              "    <tr>\n",
              "      <th>1741</th>\n",
              "      <td>κοπεί εδώ-ευρώπη κίνα δεσμοί δημοσιογραφος οικ...</td>\n",
              "    </tr>\n",
              "    <tr>\n",
              "      <th>1742</th>\n",
              "      <td>ανοιχτά-θέματα σκληρών ψυχρού-πολέμου ψυχρού π...</td>\n",
              "    </tr>\n",
              "    <tr>\n",
              "      <th>1743</th>\n",
              "      <td>ελάτε απευθείας-μαζί νομίζω-δυνατότητα πείτε-π...</td>\n",
              "    </tr>\n",
              "    <tr>\n",
              "      <th>1744</th>\n",
              "      <td>συνολικό-ποσό μάη οφειλών αιτηθεί ρυθμίσει εκα...</td>\n",
              "    </tr>\n",
              "    <tr>\n",
              "      <th>1745</th>\n",
              "      <td>τελευταία-χρόνια-ελλάδα ενέκρινε τελειώνουμε δ...</td>\n",
              "    </tr>\n",
              "  </tbody>\n",
              "</table>\n",
              "<p>1746 rows × 1 columns</p>\n",
              "</div>\n",
              "      <button class=\"colab-df-convert\" onclick=\"convertToInteractive('df-6eea150e-bbbb-4062-81f3-0b00adc0477e')\"\n",
              "              title=\"Convert this dataframe to an interactive table.\"\n",
              "              style=\"display:none;\">\n",
              "        \n",
              "  <svg xmlns=\"http://www.w3.org/2000/svg\" height=\"24px\"viewBox=\"0 0 24 24\"\n",
              "       width=\"24px\">\n",
              "    <path d=\"M0 0h24v24H0V0z\" fill=\"none\"/>\n",
              "    <path d=\"M18.56 5.44l.94 2.06.94-2.06 2.06-.94-2.06-.94-.94-2.06-.94 2.06-2.06.94zm-11 1L8.5 8.5l.94-2.06 2.06-.94-2.06-.94L8.5 2.5l-.94 2.06-2.06.94zm10 10l.94 2.06.94-2.06 2.06-.94-2.06-.94-.94-2.06-.94 2.06-2.06.94z\"/><path d=\"M17.41 7.96l-1.37-1.37c-.4-.4-.92-.59-1.43-.59-.52 0-1.04.2-1.43.59L10.3 9.45l-7.72 7.72c-.78.78-.78 2.05 0 2.83L4 21.41c.39.39.9.59 1.41.59.51 0 1.02-.2 1.41-.59l7.78-7.78 2.81-2.81c.8-.78.8-2.07 0-2.86zM5.41 20L4 18.59l7.72-7.72 1.47 1.35L5.41 20z\"/>\n",
              "  </svg>\n",
              "      </button>\n",
              "      \n",
              "  <style>\n",
              "    .colab-df-container {\n",
              "      display:flex;\n",
              "      flex-wrap:wrap;\n",
              "      gap: 12px;\n",
              "    }\n",
              "\n",
              "    .colab-df-convert {\n",
              "      background-color: #E8F0FE;\n",
              "      border: none;\n",
              "      border-radius: 50%;\n",
              "      cursor: pointer;\n",
              "      display: none;\n",
              "      fill: #1967D2;\n",
              "      height: 32px;\n",
              "      padding: 0 0 0 0;\n",
              "      width: 32px;\n",
              "    }\n",
              "\n",
              "    .colab-df-convert:hover {\n",
              "      background-color: #E2EBFA;\n",
              "      box-shadow: 0px 1px 2px rgba(60, 64, 67, 0.3), 0px 1px 3px 1px rgba(60, 64, 67, 0.15);\n",
              "      fill: #174EA6;\n",
              "    }\n",
              "\n",
              "    [theme=dark] .colab-df-convert {\n",
              "      background-color: #3B4455;\n",
              "      fill: #D2E3FC;\n",
              "    }\n",
              "\n",
              "    [theme=dark] .colab-df-convert:hover {\n",
              "      background-color: #434B5C;\n",
              "      box-shadow: 0px 1px 3px 1px rgba(0, 0, 0, 0.15);\n",
              "      filter: drop-shadow(0px 1px 2px rgba(0, 0, 0, 0.3));\n",
              "      fill: #FFFFFF;\n",
              "    }\n",
              "  </style>\n",
              "\n",
              "      <script>\n",
              "        const buttonEl =\n",
              "          document.querySelector('#df-6eea150e-bbbb-4062-81f3-0b00adc0477e button.colab-df-convert');\n",
              "        buttonEl.style.display =\n",
              "          google.colab.kernel.accessAllowed ? 'block' : 'none';\n",
              "\n",
              "        async function convertToInteractive(key) {\n",
              "          const element = document.querySelector('#df-6eea150e-bbbb-4062-81f3-0b00adc0477e');\n",
              "          const dataTable =\n",
              "            await google.colab.kernel.invokeFunction('convertToInteractive',\n",
              "                                                     [key], {});\n",
              "          if (!dataTable) return;\n",
              "\n",
              "          const docLinkHtml = 'Like what you see? Visit the ' +\n",
              "            '<a target=\"_blank\" href=https://colab.research.google.com/notebooks/data_table.ipynb>data table notebook</a>'\n",
              "            + ' to learn more about interactive tables.';\n",
              "          element.innerHTML = '';\n",
              "          dataTable['output_type'] = 'display_data';\n",
              "          await google.colab.output.renderOutput(dataTable, element);\n",
              "          const docLink = document.createElement('div');\n",
              "          docLink.innerHTML = docLinkHtml;\n",
              "          element.appendChild(docLink);\n",
              "        }\n",
              "      </script>\n",
              "    </div>\n",
              "  </div>\n",
              "  "
            ]
          },
          "metadata": {},
          "execution_count": 49
        }
      ]
    },
    {
      "cell_type": "code",
      "source": [
        "topics_encoded = regular_encode(tops['text'].astype('str').to_list(), tokenizer, maxlen=256)"
      ],
      "metadata": {
        "id": "W-SYNU2IZUHm"
      },
      "execution_count": null,
      "outputs": []
    },
    {
      "cell_type": "code",
      "source": [
        "topics_dataset = (\n",
        "    tf.data.Dataset\n",
        "    .from_tensor_slices(topics_encoded)\n",
        "    .batch(BATCH_SIZE)\n",
        ")"
      ],
      "metadata": {
        "id": "x-SL4Te_ZjlS"
      },
      "execution_count": null,
      "outputs": []
    },
    {
      "cell_type": "code",
      "source": [
        "#making predictions\n",
        "preds2 = model.predict(topics_dataset,verbose = 1)\n",
        "#converting the one hot vector output to a linear numpy array.\n",
        "pred_classes2 = np.argmax(preds2, axis = 1)"
      ],
      "metadata": {
        "id": "M-tw2lU-Z5Gx",
        "outputId": "58cb1f2a-75e7-4000-9b33-2f8ccea2c41b",
        "colab": {
          "base_uri": "https://localhost:8080/"
        }
      },
      "execution_count": null,
      "outputs": [
        {
          "output_type": "stream",
          "name": "stdout",
          "text": [
            "55/55 [==============================] - 4s 73ms/step\n"
          ]
        }
      ]
    },
    {
      "cell_type": "code",
      "source": [
        "predicted_category2 = [encoded_classes[x] for x in pred_classes2]"
      ],
      "metadata": {
        "id": "dBj874TXahxs"
      },
      "execution_count": null,
      "outputs": []
    },
    {
      "cell_type": "code",
      "source": [
        "result_topics = pd.DataFrame({'topic':topics.text.tolist(), 'predicted_category':predicted_category2})\n",
        "result_topics.head()"
      ],
      "metadata": {
        "id": "e6N402ODZ-PE",
        "outputId": "098678a3-a6ba-4f12-b5d0-f6b336a5df95",
        "colab": {
          "base_uri": "https://localhost:8080/",
          "height": 206
        }
      },
      "execution_count": null,
      "outputs": [
        {
          "output_type": "execute_result",
          "data": {
            "text/plain": [
              "                                               topic predicted_category\n",
              "0  ανέφερε τόνισε σημείωσε πρόσθεσε τόνισε-πρωθυπ...           Πολιτική\n",
              "1  εμβόλια εμβόλιο εμβολίων εμβολιαστούν εμβολιασ...              Υγεία\n",
              "2  προσφύγων ασύλου πρόσφυγες μεταναστών ροών ροέ...           Κοινωνία\n",
              "3  τουρκία τουρκίας τουρκική ερντογάν συμπεριφορά...             Κόσμος\n",
              "4  υφυπουργός γραμματέας γενικός γενικός-γραμματέ...           Πολιτική"
            ],
            "text/html": [
              "\n",
              "  <div id=\"df-cd8ec5b3-95a1-42f5-abb5-a1453db004b5\">\n",
              "    <div class=\"colab-df-container\">\n",
              "      <div>\n",
              "<style scoped>\n",
              "    .dataframe tbody tr th:only-of-type {\n",
              "        vertical-align: middle;\n",
              "    }\n",
              "\n",
              "    .dataframe tbody tr th {\n",
              "        vertical-align: top;\n",
              "    }\n",
              "\n",
              "    .dataframe thead th {\n",
              "        text-align: right;\n",
              "    }\n",
              "</style>\n",
              "<table border=\"1\" class=\"dataframe\">\n",
              "  <thead>\n",
              "    <tr style=\"text-align: right;\">\n",
              "      <th></th>\n",
              "      <th>topic</th>\n",
              "      <th>predicted_category</th>\n",
              "    </tr>\n",
              "  </thead>\n",
              "  <tbody>\n",
              "    <tr>\n",
              "      <th>0</th>\n",
              "      <td>ανέφερε τόνισε σημείωσε πρόσθεσε τόνισε-πρωθυπ...</td>\n",
              "      <td>Πολιτική</td>\n",
              "    </tr>\n",
              "    <tr>\n",
              "      <th>1</th>\n",
              "      <td>εμβόλια εμβόλιο εμβολίων εμβολιαστούν εμβολιασ...</td>\n",
              "      <td>Υγεία</td>\n",
              "    </tr>\n",
              "    <tr>\n",
              "      <th>2</th>\n",
              "      <td>προσφύγων ασύλου πρόσφυγες μεταναστών ροών ροέ...</td>\n",
              "      <td>Κοινωνία</td>\n",
              "    </tr>\n",
              "    <tr>\n",
              "      <th>3</th>\n",
              "      <td>τουρκία τουρκίας τουρκική ερντογάν συμπεριφορά...</td>\n",
              "      <td>Κόσμος</td>\n",
              "    </tr>\n",
              "    <tr>\n",
              "      <th>4</th>\n",
              "      <td>υφυπουργός γραμματέας γενικός γενικός-γραμματέ...</td>\n",
              "      <td>Πολιτική</td>\n",
              "    </tr>\n",
              "  </tbody>\n",
              "</table>\n",
              "</div>\n",
              "      <button class=\"colab-df-convert\" onclick=\"convertToInteractive('df-cd8ec5b3-95a1-42f5-abb5-a1453db004b5')\"\n",
              "              title=\"Convert this dataframe to an interactive table.\"\n",
              "              style=\"display:none;\">\n",
              "        \n",
              "  <svg xmlns=\"http://www.w3.org/2000/svg\" height=\"24px\"viewBox=\"0 0 24 24\"\n",
              "       width=\"24px\">\n",
              "    <path d=\"M0 0h24v24H0V0z\" fill=\"none\"/>\n",
              "    <path d=\"M18.56 5.44l.94 2.06.94-2.06 2.06-.94-2.06-.94-.94-2.06-.94 2.06-2.06.94zm-11 1L8.5 8.5l.94-2.06 2.06-.94-2.06-.94L8.5 2.5l-.94 2.06-2.06.94zm10 10l.94 2.06.94-2.06 2.06-.94-2.06-.94-.94-2.06-.94 2.06-2.06.94z\"/><path d=\"M17.41 7.96l-1.37-1.37c-.4-.4-.92-.59-1.43-.59-.52 0-1.04.2-1.43.59L10.3 9.45l-7.72 7.72c-.78.78-.78 2.05 0 2.83L4 21.41c.39.39.9.59 1.41.59.51 0 1.02-.2 1.41-.59l7.78-7.78 2.81-2.81c.8-.78.8-2.07 0-2.86zM5.41 20L4 18.59l7.72-7.72 1.47 1.35L5.41 20z\"/>\n",
              "  </svg>\n",
              "      </button>\n",
              "      \n",
              "  <style>\n",
              "    .colab-df-container {\n",
              "      display:flex;\n",
              "      flex-wrap:wrap;\n",
              "      gap: 12px;\n",
              "    }\n",
              "\n",
              "    .colab-df-convert {\n",
              "      background-color: #E8F0FE;\n",
              "      border: none;\n",
              "      border-radius: 50%;\n",
              "      cursor: pointer;\n",
              "      display: none;\n",
              "      fill: #1967D2;\n",
              "      height: 32px;\n",
              "      padding: 0 0 0 0;\n",
              "      width: 32px;\n",
              "    }\n",
              "\n",
              "    .colab-df-convert:hover {\n",
              "      background-color: #E2EBFA;\n",
              "      box-shadow: 0px 1px 2px rgba(60, 64, 67, 0.3), 0px 1px 3px 1px rgba(60, 64, 67, 0.15);\n",
              "      fill: #174EA6;\n",
              "    }\n",
              "\n",
              "    [theme=dark] .colab-df-convert {\n",
              "      background-color: #3B4455;\n",
              "      fill: #D2E3FC;\n",
              "    }\n",
              "\n",
              "    [theme=dark] .colab-df-convert:hover {\n",
              "      background-color: #434B5C;\n",
              "      box-shadow: 0px 1px 3px 1px rgba(0, 0, 0, 0.15);\n",
              "      filter: drop-shadow(0px 1px 2px rgba(0, 0, 0, 0.3));\n",
              "      fill: #FFFFFF;\n",
              "    }\n",
              "  </style>\n",
              "\n",
              "      <script>\n",
              "        const buttonEl =\n",
              "          document.querySelector('#df-cd8ec5b3-95a1-42f5-abb5-a1453db004b5 button.colab-df-convert');\n",
              "        buttonEl.style.display =\n",
              "          google.colab.kernel.accessAllowed ? 'block' : 'none';\n",
              "\n",
              "        async function convertToInteractive(key) {\n",
              "          const element = document.querySelector('#df-cd8ec5b3-95a1-42f5-abb5-a1453db004b5');\n",
              "          const dataTable =\n",
              "            await google.colab.kernel.invokeFunction('convertToInteractive',\n",
              "                                                     [key], {});\n",
              "          if (!dataTable) return;\n",
              "\n",
              "          const docLinkHtml = 'Like what you see? Visit the ' +\n",
              "            '<a target=\"_blank\" href=https://colab.research.google.com/notebooks/data_table.ipynb>data table notebook</a>'\n",
              "            + ' to learn more about interactive tables.';\n",
              "          element.innerHTML = '';\n",
              "          dataTable['output_type'] = 'display_data';\n",
              "          await google.colab.output.renderOutput(dataTable, element);\n",
              "          const docLink = document.createElement('div');\n",
              "          docLink.innerHTML = docLinkHtml;\n",
              "          element.appendChild(docLink);\n",
              "        }\n",
              "      </script>\n",
              "    </div>\n",
              "  </div>\n",
              "  "
            ]
          },
          "metadata": {},
          "execution_count": 54
        }
      ]
    },
    {
      "cell_type": "code",
      "source": [
        "result_topics"
      ],
      "metadata": {
        "id": "4Zqc5LoUbf5z",
        "outputId": "de44b817-6b1e-416d-a83a-846dbc3a3ccd",
        "colab": {
          "base_uri": "https://localhost:8080/",
          "height": 424
        }
      },
      "execution_count": null,
      "outputs": [
        {
          "output_type": "execute_result",
          "data": {
            "text/plain": [
              "                                                  topic predicted_category\n",
              "0     ανέφερε τόνισε σημείωσε πρόσθεσε τόνισε-πρωθυπ...           Πολιτική\n",
              "1     εμβόλια εμβόλιο εμβολίων εμβολιαστούν εμβολιασ...              Υγεία\n",
              "2     προσφύγων ασύλου πρόσφυγες μεταναστών ροών ροέ...           Κοινωνία\n",
              "3     τουρκία τουρκίας τουρκική ερντογάν συμπεριφορά...             Κόσμος\n",
              "4     υφυπουργός γραμματέας γενικός γενικός-γραμματέ...           Πολιτική\n",
              "...                                                 ...                ...\n",
              "1741  κοπεί εδώ-ευρώπη κίνα δεσμοί δημοσιογραφος οικ...           Πολιτική\n",
              "1742  ανοιχτά-θέματα σκληρών ψυχρού-πολέμου ψυχρού π...             Κόσμος\n",
              "1743  ελάτε απευθείας-μαζί νομίζω-δυνατότητα πείτε-π...           Πολιτική\n",
              "1744  συνολικό-ποσό μάη οφειλών αιτηθεί ρυθμίσει εκα...          Οικονομία\n",
              "1745  τελευταία-χρόνια-ελλάδα ενέκρινε τελειώνουμε δ...           Πολιτική\n",
              "\n",
              "[1746 rows x 2 columns]"
            ],
            "text/html": [
              "\n",
              "  <div id=\"df-3e76e006-64b6-4d61-810c-0b495e459b51\">\n",
              "    <div class=\"colab-df-container\">\n",
              "      <div>\n",
              "<style scoped>\n",
              "    .dataframe tbody tr th:only-of-type {\n",
              "        vertical-align: middle;\n",
              "    }\n",
              "\n",
              "    .dataframe tbody tr th {\n",
              "        vertical-align: top;\n",
              "    }\n",
              "\n",
              "    .dataframe thead th {\n",
              "        text-align: right;\n",
              "    }\n",
              "</style>\n",
              "<table border=\"1\" class=\"dataframe\">\n",
              "  <thead>\n",
              "    <tr style=\"text-align: right;\">\n",
              "      <th></th>\n",
              "      <th>topic</th>\n",
              "      <th>predicted_category</th>\n",
              "    </tr>\n",
              "  </thead>\n",
              "  <tbody>\n",
              "    <tr>\n",
              "      <th>0</th>\n",
              "      <td>ανέφερε τόνισε σημείωσε πρόσθεσε τόνισε-πρωθυπ...</td>\n",
              "      <td>Πολιτική</td>\n",
              "    </tr>\n",
              "    <tr>\n",
              "      <th>1</th>\n",
              "      <td>εμβόλια εμβόλιο εμβολίων εμβολιαστούν εμβολιασ...</td>\n",
              "      <td>Υγεία</td>\n",
              "    </tr>\n",
              "    <tr>\n",
              "      <th>2</th>\n",
              "      <td>προσφύγων ασύλου πρόσφυγες μεταναστών ροών ροέ...</td>\n",
              "      <td>Κοινωνία</td>\n",
              "    </tr>\n",
              "    <tr>\n",
              "      <th>3</th>\n",
              "      <td>τουρκία τουρκίας τουρκική ερντογάν συμπεριφορά...</td>\n",
              "      <td>Κόσμος</td>\n",
              "    </tr>\n",
              "    <tr>\n",
              "      <th>4</th>\n",
              "      <td>υφυπουργός γραμματέας γενικός γενικός-γραμματέ...</td>\n",
              "      <td>Πολιτική</td>\n",
              "    </tr>\n",
              "    <tr>\n",
              "      <th>...</th>\n",
              "      <td>...</td>\n",
              "      <td>...</td>\n",
              "    </tr>\n",
              "    <tr>\n",
              "      <th>1741</th>\n",
              "      <td>κοπεί εδώ-ευρώπη κίνα δεσμοί δημοσιογραφος οικ...</td>\n",
              "      <td>Πολιτική</td>\n",
              "    </tr>\n",
              "    <tr>\n",
              "      <th>1742</th>\n",
              "      <td>ανοιχτά-θέματα σκληρών ψυχρού-πολέμου ψυχρού π...</td>\n",
              "      <td>Κόσμος</td>\n",
              "    </tr>\n",
              "    <tr>\n",
              "      <th>1743</th>\n",
              "      <td>ελάτε απευθείας-μαζί νομίζω-δυνατότητα πείτε-π...</td>\n",
              "      <td>Πολιτική</td>\n",
              "    </tr>\n",
              "    <tr>\n",
              "      <th>1744</th>\n",
              "      <td>συνολικό-ποσό μάη οφειλών αιτηθεί ρυθμίσει εκα...</td>\n",
              "      <td>Οικονομία</td>\n",
              "    </tr>\n",
              "    <tr>\n",
              "      <th>1745</th>\n",
              "      <td>τελευταία-χρόνια-ελλάδα ενέκρινε τελειώνουμε δ...</td>\n",
              "      <td>Πολιτική</td>\n",
              "    </tr>\n",
              "  </tbody>\n",
              "</table>\n",
              "<p>1746 rows × 2 columns</p>\n",
              "</div>\n",
              "      <button class=\"colab-df-convert\" onclick=\"convertToInteractive('df-3e76e006-64b6-4d61-810c-0b495e459b51')\"\n",
              "              title=\"Convert this dataframe to an interactive table.\"\n",
              "              style=\"display:none;\">\n",
              "        \n",
              "  <svg xmlns=\"http://www.w3.org/2000/svg\" height=\"24px\"viewBox=\"0 0 24 24\"\n",
              "       width=\"24px\">\n",
              "    <path d=\"M0 0h24v24H0V0z\" fill=\"none\"/>\n",
              "    <path d=\"M18.56 5.44l.94 2.06.94-2.06 2.06-.94-2.06-.94-.94-2.06-.94 2.06-2.06.94zm-11 1L8.5 8.5l.94-2.06 2.06-.94-2.06-.94L8.5 2.5l-.94 2.06-2.06.94zm10 10l.94 2.06.94-2.06 2.06-.94-2.06-.94-.94-2.06-.94 2.06-2.06.94z\"/><path d=\"M17.41 7.96l-1.37-1.37c-.4-.4-.92-.59-1.43-.59-.52 0-1.04.2-1.43.59L10.3 9.45l-7.72 7.72c-.78.78-.78 2.05 0 2.83L4 21.41c.39.39.9.59 1.41.59.51 0 1.02-.2 1.41-.59l7.78-7.78 2.81-2.81c.8-.78.8-2.07 0-2.86zM5.41 20L4 18.59l7.72-7.72 1.47 1.35L5.41 20z\"/>\n",
              "  </svg>\n",
              "      </button>\n",
              "      \n",
              "  <style>\n",
              "    .colab-df-container {\n",
              "      display:flex;\n",
              "      flex-wrap:wrap;\n",
              "      gap: 12px;\n",
              "    }\n",
              "\n",
              "    .colab-df-convert {\n",
              "      background-color: #E8F0FE;\n",
              "      border: none;\n",
              "      border-radius: 50%;\n",
              "      cursor: pointer;\n",
              "      display: none;\n",
              "      fill: #1967D2;\n",
              "      height: 32px;\n",
              "      padding: 0 0 0 0;\n",
              "      width: 32px;\n",
              "    }\n",
              "\n",
              "    .colab-df-convert:hover {\n",
              "      background-color: #E2EBFA;\n",
              "      box-shadow: 0px 1px 2px rgba(60, 64, 67, 0.3), 0px 1px 3px 1px rgba(60, 64, 67, 0.15);\n",
              "      fill: #174EA6;\n",
              "    }\n",
              "\n",
              "    [theme=dark] .colab-df-convert {\n",
              "      background-color: #3B4455;\n",
              "      fill: #D2E3FC;\n",
              "    }\n",
              "\n",
              "    [theme=dark] .colab-df-convert:hover {\n",
              "      background-color: #434B5C;\n",
              "      box-shadow: 0px 1px 3px 1px rgba(0, 0, 0, 0.15);\n",
              "      filter: drop-shadow(0px 1px 2px rgba(0, 0, 0, 0.3));\n",
              "      fill: #FFFFFF;\n",
              "    }\n",
              "  </style>\n",
              "\n",
              "      <script>\n",
              "        const buttonEl =\n",
              "          document.querySelector('#df-3e76e006-64b6-4d61-810c-0b495e459b51 button.colab-df-convert');\n",
              "        buttonEl.style.display =\n",
              "          google.colab.kernel.accessAllowed ? 'block' : 'none';\n",
              "\n",
              "        async function convertToInteractive(key) {\n",
              "          const element = document.querySelector('#df-3e76e006-64b6-4d61-810c-0b495e459b51');\n",
              "          const dataTable =\n",
              "            await google.colab.kernel.invokeFunction('convertToInteractive',\n",
              "                                                     [key], {});\n",
              "          if (!dataTable) return;\n",
              "\n",
              "          const docLinkHtml = 'Like what you see? Visit the ' +\n",
              "            '<a target=\"_blank\" href=https://colab.research.google.com/notebooks/data_table.ipynb>data table notebook</a>'\n",
              "            + ' to learn more about interactive tables.';\n",
              "          element.innerHTML = '';\n",
              "          dataTable['output_type'] = 'display_data';\n",
              "          await google.colab.output.renderOutput(dataTable, element);\n",
              "          const docLink = document.createElement('div');\n",
              "          docLink.innerHTML = docLinkHtml;\n",
              "          element.appendChild(docLink);\n",
              "        }\n",
              "      </script>\n",
              "    </div>\n",
              "  </div>\n",
              "  "
            ]
          },
          "metadata": {},
          "execution_count": 55
        }
      ]
    },
    {
      "cell_type": "code",
      "source": [
        "result_topics.predicted_category.unique()"
      ],
      "metadata": {
        "colab": {
          "base_uri": "https://localhost:8080/"
        },
        "id": "8SPmWeSEQ0yt",
        "outputId": "cffa49dc-1dc4-4f81-ef0b-e4a93def3fc7"
      },
      "execution_count": null,
      "outputs": [
        {
          "output_type": "execute_result",
          "data": {
            "text/plain": [
              "array(['Πολιτική', 'Υγεία', 'Κοινωνία', 'Κόσμος', 'Οικονομία',\n",
              "       'Τεχνολογία', 'Περιβάλλον', 'Πολιτισμός', 'Αθλητισμός',\n",
              "       'Αστυνομικό', 'Εκπαίδευση', 'Δικαιοσύνη'], dtype=object)"
            ]
          },
          "metadata": {},
          "execution_count": 56
        }
      ]
    },
    {
      "cell_type": "code",
      "source": [
        "result_topics.to_csv('/content/drive/MyDrive/datasets/result_arthra_topics.csv')"
      ],
      "metadata": {
        "id": "UvIqQ6B_cCYe"
      },
      "execution_count": null,
      "outputs": []
    },
    {
      "cell_type": "code",
      "source": [
        "import torch\n",
        "torch.save(model, '/content/drive/MyDrive/datasets/bertclf')\n",
        "\n",
        "# saved_model = torch.load('path/to/model')"
      ],
      "metadata": {
        "colab": {
          "base_uri": "https://localhost:8080/"
        },
        "id": "KfdlbAACTq0q",
        "outputId": "a357e267-ac5d-495a-80ac-b1367e4ab81f"
      },
      "execution_count": null,
      "outputs": [
        {
          "output_type": "stream",
          "name": "stderr",
          "text": [
            "WARNING:absl:Found untraced functions such as embeddings_layer_call_fn, embeddings_layer_call_and_return_conditional_losses, encoder_layer_call_fn, encoder_layer_call_and_return_conditional_losses, pooler_layer_call_fn while saving (showing 5 of 420). These functions will not be directly callable after loading.\n"
          ]
        }
      ]
    },
    {
      "cell_type": "code",
      "source": [
        "for i in range(1, 1696, 1):\n",
        "  topic_model.set_topic_labels({i: renamed_topics[i-1] + \"_\" + predicted_category2[i-1]})"
      ],
      "metadata": {
        "id": "BiPf2xfIA-y2"
      },
      "execution_count": null,
      "outputs": []
    },
    {
      "cell_type": "code",
      "source": [
        "topic_model.custom_labels_"
      ],
      "metadata": {
        "id": "ztJEuKzxB26t"
      },
      "execution_count": null,
      "outputs": []
    },
    {
      "cell_type": "code",
      "source": [
        "keimena.pars.tolist()"
      ],
      "metadata": {
        "id": "WfJYqS4KEAf0"
      },
      "execution_count": null,
      "outputs": []
    }
  ],
  "metadata": {
    "colab": {
      "provenance": [],
      "machine_shape": "hm",
      "include_colab_link": true
    },
    "kernelspec": {
      "display_name": "Python 3",
      "name": "python3"
    },
    "accelerator": "GPU",
    "gpuClass": "premium"
  },
  "nbformat": 4,
  "nbformat_minor": 0
}